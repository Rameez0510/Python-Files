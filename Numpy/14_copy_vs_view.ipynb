{
 "cells": [
  {
   "cell_type": "markdown",
   "id": "5ceca612",
   "metadata": {},
   "source": [
    "# Copy vs View"
   ]
  },
  {
   "cell_type": "code",
   "execution_count": 10,
   "id": "618a75bc",
   "metadata": {},
   "outputs": [],
   "source": [
    "import numpy as np"
   ]
  },
  {
   "cell_type": "markdown",
   "id": "20fb8ed2",
   "metadata": {},
   "source": [
    "## Copy"
   ]
  },
  {
   "cell_type": "code",
   "execution_count": 11,
   "id": "655b027a",
   "metadata": {},
   "outputs": [
    {
     "name": "stdout",
     "output_type": "stream",
     "text": [
      "Original:  [1 2 3]\n",
      "Copy:      [1 2 3]\n"
     ]
    }
   ],
   "source": [
    "x = np.array([1,2,3])\n",
    "y = x.copy()\n",
    "\n",
    "print(\"Original: \",x)\n",
    "print(\"Copy:     \",y)"
   ]
  },
  {
   "cell_type": "code",
   "execution_count": 12,
   "id": "1d395c56",
   "metadata": {},
   "outputs": [
    {
     "name": "stdout",
     "output_type": "stream",
     "text": [
      "Original:  [1 2 3]\n",
      "Copy:      [ 1  2 69]\n"
     ]
    }
   ],
   "source": [
    "#after changing\n",
    "y[2] = 69\n",
    "print(\"Original: \",x)\n",
    "print(\"Copy:     \",y)"
   ]
  },
  {
   "cell_type": "markdown",
   "id": "c69cf61f",
   "metadata": {},
   "source": [
    "## View"
   ]
  },
  {
   "cell_type": "code",
   "execution_count": 13,
   "id": "c40770a9",
   "metadata": {},
   "outputs": [
    {
     "name": "stdout",
     "output_type": "stream",
     "text": [
      "Original:  [1 2 3]\n",
      "View:      [1 2 3]\n"
     ]
    }
   ],
   "source": [
    "a = np.array([1,2,3])\n",
    "b = a.view()\n",
    "\n",
    "print(\"Original: \",a)\n",
    "print(\"View:     \",b)"
   ]
  },
  {
   "cell_type": "code",
   "execution_count": 14,
   "id": "816826ba",
   "metadata": {},
   "outputs": [
    {
     "name": "stdout",
     "output_type": "stream",
     "text": [
      "Original:  [ 1  2 69]\n",
      "View:      [ 1  2 69]\n"
     ]
    }
   ],
   "source": [
    "b[2] = 69\n",
    "\n",
    "print(\"Original: \",a)\n",
    "print(\"View:     \",b)"
   ]
  }
 ],
 "metadata": {
  "kernelspec": {
   "display_name": "Python 3 (ipykernel)",
   "language": "python",
   "name": "python3"
  },
  "language_info": {
   "codemirror_mode": {
    "name": "ipython",
    "version": 3
   },
   "file_extension": ".py",
   "mimetype": "text/x-python",
   "name": "python",
   "nbconvert_exporter": "python",
   "pygments_lexer": "ipython3",
   "version": "3.10.2"
  }
 },
 "nbformat": 4,
 "nbformat_minor": 5
}
