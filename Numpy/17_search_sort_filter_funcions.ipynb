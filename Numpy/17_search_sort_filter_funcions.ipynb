{
 "cells": [
  {
   "cell_type": "markdown",
   "id": "400bdfb2",
   "metadata": {},
   "source": [
    "# Search"
   ]
  },
  {
   "cell_type": "code",
   "execution_count": 1,
   "id": "79495368",
   "metadata": {},
   "outputs": [],
   "source": [
    "import numpy as np"
   ]
  },
  {
   "cell_type": "code",
   "execution_count": 4,
   "id": "5d9424c3",
   "metadata": {},
   "outputs": [
    {
     "name": "stdout",
     "output_type": "stream",
     "text": [
      "(array([ 1,  9, 11, 13], dtype=int64),)\n",
      "(array([ 1,  3,  5,  7,  9, 11, 12, 13], dtype=int64),)\n"
     ]
    }
   ],
   "source": [
    "a = np.array([1,2,3,4,5,6,7,8,9,2,53,2,64,2])\n",
    "print(np.where(a==2))\n",
    "print(np.where((a%2)==0))"
   ]
  },
  {
   "cell_type": "markdown",
   "id": "59bd600b",
   "metadata": {},
   "source": [
    "# SearchSorted"
   ]
  },
  {
   "cell_type": "code",
   "execution_count": 16,
   "id": "1802ac64",
   "metadata": {},
   "outputs": [
    {
     "name": "stdout",
     "output_type": "stream",
     "text": [
      "6\n"
     ]
    }
   ],
   "source": [
    "b = np.array([10,20,30,50,60,70,80])\n",
    "print(np.searchsorted(b,77))"
   ]
  },
  {
   "cell_type": "markdown",
   "id": "2a805c3a",
   "metadata": {},
   "source": [
    "# Sort"
   ]
  },
  {
   "cell_type": "code",
   "execution_count": 21,
   "id": "e65fe4d0",
   "metadata": {},
   "outputs": [
    {
     "name": "stdout",
     "output_type": "stream",
     "text": [
      "[ 8 34 34 76 97 38 39 94 39 31]\n",
      "[ 8 31 34 34 38 39 39 76 94 97]\n"
     ]
    }
   ],
   "source": [
    "c = np.random.randint(1,100,10)\n",
    "print(c)\n",
    "print(np.sort(c))"
   ]
  },
  {
   "cell_type": "code",
   "execution_count": 32,
   "id": "52ebf78f",
   "metadata": {},
   "outputs": [
    {
     "name": "stdout",
     "output_type": "stream",
     "text": [
      "['itachi' 'madara' 'obito' 'sarada' 'sasuke' 'shisui']\n"
     ]
    }
   ],
   "source": [
    "d = np.array([\"madara\", \"itachi\", \"obito\", \"sasuke\", \"shisui\", \"sarada\"])\n",
    "print(np.sort(d))"
   ]
  },
  {
   "cell_type": "markdown",
   "id": "3a404467",
   "metadata": {},
   "source": [
    "# Filter Array"
   ]
  },
  {
   "cell_type": "code",
   "execution_count": 33,
   "id": "c6044d59",
   "metadata": {},
   "outputs": [
    {
     "name": "stdout",
     "output_type": "stream",
     "text": [
      "['itachi' 'sasuke' 'sarada']\n"
     ]
    }
   ],
   "source": [
    "e = np.array([\"madara\", \"itachi\", \"obito\", \"sasuke\", \"shisui\", \"sarada\"])\n",
    "f = np.array([False,True,False,True,False,True])\n",
    "print(e[f])"
   ]
  },
  {
   "cell_type": "code",
   "execution_count": null,
   "id": "92a0f234",
   "metadata": {},
   "outputs": [],
   "source": []
  }
 ],
 "metadata": {
  "kernelspec": {
   "display_name": "Python 3 (ipykernel)",
   "language": "python",
   "name": "python3"
  },
  "language_info": {
   "codemirror_mode": {
    "name": "ipython",
    "version": 3
   },
   "file_extension": ".py",
   "mimetype": "text/x-python",
   "name": "python",
   "nbconvert_exporter": "python",
   "pygments_lexer": "ipython3",
   "version": "3.10.2"
  }
 },
 "nbformat": 4,
 "nbformat_minor": 5
}
