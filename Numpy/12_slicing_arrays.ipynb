{
 "cells": [
  {
   "cell_type": "markdown",
   "id": "d0296d29",
   "metadata": {},
   "source": [
    "# Slicing"
   ]
  },
  {
   "cell_type": "code",
   "execution_count": 1,
   "id": "73088b49",
   "metadata": {},
   "outputs": [],
   "source": [
    "import numpy as np"
   ]
  },
  {
   "cell_type": "markdown",
   "id": "6d41ae6c",
   "metadata": {},
   "source": [
    "## 1 Dimentional"
   ]
  },
  {
   "cell_type": "code",
   "execution_count": 4,
   "id": "121d1210",
   "metadata": {},
   "outputs": [
    {
     "name": "stdout",
     "output_type": "stream",
     "text": [
      "From 2 to 7 [3 4 5 6 7]\n",
      "From 2 to end [ 3  4  5  6  7  8  9 10]\n",
      "From start to 7 [1 2 3 4 5 6 7]\n",
      "2 steps [1 3 5 7 9]\n"
     ]
    }
   ],
   "source": [
    "a = np.array([1,2,3,4,5,6,7,8,9,10])\n",
    "print(\"From 2 to 7\", a[2:7])\n",
    "print(\"From 2 to end\", a[2:])\n",
    "print(\"From start to 7\", a[:7])\n",
    "print(\"2 steps\", a[::2])"
   ]
  },
  {
   "cell_type": "markdown",
   "id": "cd71fc56",
   "metadata": {},
   "source": [
    "## 2 Dimentional"
   ]
  },
  {
   "cell_type": "code",
   "execution_count": 11,
   "id": "9fc0c714",
   "metadata": {},
   "outputs": [
    {
     "name": "stdout",
     "output_type": "stream",
     "text": [
      "[ 8  9 17 18 19]\n"
     ]
    }
   ],
   "source": [
    "b = np.array([\n",
    "    [1,2,3,11,12,13],\n",
    "    [4,5,6,14,15,16],\n",
    "    [7,8,9,17,18,19]\n",
    "])\n",
    "print(b[2,1:])"
   ]
  },
  {
   "cell_type": "markdown",
   "id": "9fe9a1c2",
   "metadata": {},
   "source": [
    "## 3 Dimentional"
   ]
  },
  {
   "cell_type": "code",
   "execution_count": 12,
   "id": "08517865",
   "metadata": {},
   "outputs": [
    {
     "name": "stdout",
     "output_type": "stream",
     "text": [
      "[414 415 416]\n"
     ]
    }
   ],
   "source": [
    "c = np.array([\n",
    "    [\n",
    "        [1,2,3,11,12,13],\n",
    "        [4,5,6,14,15,16],\n",
    "        [7,8,9,17,18,19] \n",
    "    ],\n",
    "    [\n",
    "        [41,42,43,411,412,413],\n",
    "        [44,45,46,414,415,416],\n",
    "        [47,48,49,417,418,419]\n",
    "    ],\n",
    "    [\n",
    "        [81,82,83,811,812,813],\n",
    "        [84,85,86,814,815,816],\n",
    "        [87,88,89,817,818,819]\n",
    "    ]\n",
    "])\n",
    "\n",
    "print(c[1,1,3:])"
   ]
  },
  {
   "cell_type": "code",
   "execution_count": null,
   "id": "cf664c93",
   "metadata": {},
   "outputs": [],
   "source": []
  }
 ],
 "metadata": {
  "kernelspec": {
   "display_name": "Python 3 (ipykernel)",
   "language": "python",
   "name": "python3"
  },
  "language_info": {
   "codemirror_mode": {
    "name": "ipython",
    "version": 3
   },
   "file_extension": ".py",
   "mimetype": "text/x-python",
   "name": "python",
   "nbconvert_exporter": "python",
   "pygments_lexer": "ipython3",
   "version": "3.10.2"
  }
 },
 "nbformat": 4,
 "nbformat_minor": 5
}
