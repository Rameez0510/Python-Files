{
 "cells": [
  {
   "cell_type": "markdown",
   "id": "051a5309",
   "metadata": {},
   "source": [
    "# rand()"
   ]
  },
  {
   "cell_type": "code",
   "execution_count": 2,
   "id": "69084f91",
   "metadata": {},
   "outputs": [
    {
     "name": "stdout",
     "output_type": "stream",
     "text": [
      "[0.94355346 0.3602441  0.00864277 0.66167261 0.8628378 ]\n"
     ]
    }
   ],
   "source": [
    "import numpy as np\n",
    "a = np.random.rand(5)\n",
    "print(a)"
   ]
  },
  {
   "cell_type": "markdown",
   "id": "295b9b1f",
   "metadata": {},
   "source": [
    "# randn()"
   ]
  },
  {
   "cell_type": "code",
   "execution_count": 3,
   "id": "6a76b896",
   "metadata": {},
   "outputs": [
    {
     "name": "stdout",
     "output_type": "stream",
     "text": [
      "[ 0.4535686  -1.1446815   1.40530404 -0.93569386 -1.75197961]\n"
     ]
    }
   ],
   "source": [
    "b = np.random.randn(5)\n",
    "print(b)"
   ]
  },
  {
   "cell_type": "markdown",
   "id": "09db44ac",
   "metadata": {},
   "source": [
    "# ranf()"
   ]
  },
  {
   "cell_type": "code",
   "execution_count": 4,
   "id": "7b28ecdc",
   "metadata": {},
   "outputs": [
    {
     "name": "stdout",
     "output_type": "stream",
     "text": [
      "[0.5613428  0.11595523 0.38221178 0.53792677 0.24073786]\n"
     ]
    }
   ],
   "source": [
    "c = np.random.ranf(5)\n",
    "print(c)"
   ]
  },
  {
   "cell_type": "markdown",
   "id": "04808f75",
   "metadata": {},
   "source": [
    "# randint()"
   ]
  },
  {
   "cell_type": "code",
   "execution_count": 8,
   "id": "4fdd82ea",
   "metadata": {},
   "outputs": [
    {
     "name": "stdout",
     "output_type": "stream",
     "text": [
      "[[79 19 14]\n",
      " [30 61 94]\n",
      " [54 91  5]\n",
      " [57 11 77]\n",
      " [76  5 48]]\n"
     ]
    }
   ],
   "source": [
    "d = np.random.randint(5,100,(5,3))\n",
    "print(d)"
   ]
  },
  {
   "cell_type": "code",
   "execution_count": null,
   "id": "50f5ee85",
   "metadata": {},
   "outputs": [],
   "source": []
  }
 ],
 "metadata": {
  "kernelspec": {
   "display_name": "Python 3 (ipykernel)",
   "language": "python",
   "name": "python3"
  },
  "language_info": {
   "codemirror_mode": {
    "name": "ipython",
    "version": 3
   },
   "file_extension": ".py",
   "mimetype": "text/x-python",
   "name": "python",
   "nbconvert_exporter": "python",
   "pygments_lexer": "ipython3",
   "version": "3.10.2"
  }
 },
 "nbformat": 4,
 "nbformat_minor": 5
}
