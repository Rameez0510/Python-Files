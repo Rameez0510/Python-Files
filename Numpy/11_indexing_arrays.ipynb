{
 "cells": [
  {
   "cell_type": "markdown",
   "id": "d65de421",
   "metadata": {},
   "source": [
    "# Indexing"
   ]
  },
  {
   "cell_type": "code",
   "execution_count": 12,
   "id": "2fa78a3d",
   "metadata": {},
   "outputs": [],
   "source": [
    "import numpy as np\n"
   ]
  },
  {
   "cell_type": "markdown",
   "id": "854caae3",
   "metadata": {},
   "source": [
    "## 1 Dimentional"
   ]
  },
  {
   "cell_type": "code",
   "execution_count": 13,
   "id": "0111f0ad",
   "metadata": {},
   "outputs": [
    {
     "name": "stdout",
     "output_type": "stream",
     "text": [
      "5\n"
     ]
    }
   ],
   "source": [
    "a = np.array([1,2,3,4,5])\n",
    "print(a[4])"
   ]
  },
  {
   "cell_type": "markdown",
   "id": "adb49b2d",
   "metadata": {},
   "source": [
    "## 2 Dimentional"
   ]
  },
  {
   "cell_type": "code",
   "execution_count": 14,
   "id": "6132d51b",
   "metadata": {},
   "outputs": [
    {
     "name": "stdout",
     "output_type": "stream",
     "text": [
      "3\n"
     ]
    }
   ],
   "source": [
    "b = np.array([[1,2,3],[4,5,6]])\n",
    "print(b[0,2])"
   ]
  },
  {
   "cell_type": "markdown",
   "id": "79c54469",
   "metadata": {},
   "source": [
    "## 3 Dimentional"
   ]
  },
  {
   "cell_type": "code",
   "execution_count": 15,
   "id": "ae2b640d",
   "metadata": {},
   "outputs": [
    {
     "name": "stdout",
     "output_type": "stream",
     "text": [
      "55\n"
     ]
    }
   ],
   "source": [
    "c = np.array([\n",
    "    [\n",
    "        [1,2],[3,4],[9,10],[11,12]\n",
    "    ],\n",
    "    [\n",
    "        [5,6],[7,8],[13,14],[15,16]\n",
    "    ],\n",
    "    [\n",
    "        [51,52],[53,54],[59,510],[511,512]\n",
    "    ],\n",
    "    [\n",
    "        [55,6],[57,8],[513,514],[515,516]\n",
    "    ]\n",
    "])\n",
    "print(c[3,0,0])"
   ]
  }
 ],
 "metadata": {
  "kernelspec": {
   "display_name": "Python 3 (ipykernel)",
   "language": "python",
   "name": "python3"
  },
  "language_info": {
   "codemirror_mode": {
    "name": "ipython",
    "version": 3
   },
   "file_extension": ".py",
   "mimetype": "text/x-python",
   "name": "python",
   "nbconvert_exporter": "python",
   "pygments_lexer": "ipython3",
   "version": "3.10.2"
  }
 },
 "nbformat": 4,
 "nbformat_minor": 5
}
