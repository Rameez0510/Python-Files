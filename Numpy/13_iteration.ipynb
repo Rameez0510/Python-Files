{
 "cells": [
  {
   "cell_type": "markdown",
   "id": "c40e20b9",
   "metadata": {},
   "source": [
    "# Iteration"
   ]
  },
  {
   "cell_type": "code",
   "execution_count": 1,
   "id": "6494df7b",
   "metadata": {},
   "outputs": [],
   "source": [
    "import numpy as np"
   ]
  },
  {
   "cell_type": "code",
   "execution_count": 2,
   "id": "ba655c86",
   "metadata": {},
   "outputs": [],
   "source": [
    "a = np.array([1,2,3,4,5,6,7,8,9,10])\n",
    "\n",
    "b = np.array([\n",
    "    [1,2,3,11,12,13],\n",
    "    [4,5,6,14,15,16],\n",
    "    [7,8,9,17,18,19]\n",
    "])\n",
    "\n",
    "c = np.array([\n",
    "    [\n",
    "        [1,2,3,11,12,13],\n",
    "        [4,5,6,14,15,16],\n",
    "        [7,8,9,17,18,19] \n",
    "    ],\n",
    "    [\n",
    "        [41,42,43,411,412,413],\n",
    "        [44,45,46,414,415,416],\n",
    "        [47,48,49,417,418,419]\n",
    "    ],\n",
    "    [\n",
    "        [81,82,83,811,812,813],\n",
    "        [84,85,86,814,815,816],\n",
    "        [87,88,89,817,818,819]\n",
    "    ]\n",
    "])\n"
   ]
  },
  {
   "cell_type": "code",
   "execution_count": 3,
   "id": "466bd491",
   "metadata": {},
   "outputs": [
    {
     "name": "stdout",
     "output_type": "stream",
     "text": [
      "1D elements\n",
      "1\n",
      "2\n",
      "3\n",
      "4\n",
      "5\n",
      "6\n",
      "7\n",
      "8\n",
      "9\n",
      "10\n"
     ]
    }
   ],
   "source": [
    "print(\"1D elements\")\n",
    "for i in a:\n",
    "    print(i)"
   ]
  },
  {
   "cell_type": "code",
   "execution_count": 4,
   "id": "5b9c2733",
   "metadata": {},
   "outputs": [
    {
     "name": "stdout",
     "output_type": "stream",
     "text": [
      "2D elements\n",
      "1\n",
      "2\n",
      "3\n",
      "11\n",
      "12\n",
      "13\n",
      "4\n",
      "5\n",
      "6\n",
      "14\n",
      "15\n",
      "16\n",
      "7\n",
      "8\n",
      "9\n",
      "17\n",
      "18\n",
      "19\n"
     ]
    }
   ],
   "source": [
    "print(\"2D elements\")\n",
    "for i in b:\n",
    "    for j in i:\n",
    "        print(j)"
   ]
  },
  {
   "cell_type": "code",
   "execution_count": 6,
   "id": "6c440632",
   "metadata": {},
   "outputs": [
    {
     "name": "stdout",
     "output_type": "stream",
     "text": [
      "3D elements\n",
      "0 1\n",
      "1 2\n",
      "2 3\n",
      "3 11\n",
      "4 12\n",
      "5 13\n",
      "6 4\n",
      "7 5\n",
      "8 6\n",
      "9 14\n",
      "10 15\n",
      "11 16\n",
      "12 7\n",
      "13 8\n",
      "14 9\n",
      "15 17\n",
      "16 18\n",
      "17 19\n",
      "18 41\n",
      "19 42\n",
      "20 43\n",
      "21 411\n",
      "22 412\n",
      "23 413\n",
      "24 44\n",
      "25 45\n",
      "26 46\n",
      "27 414\n",
      "28 415\n",
      "29 416\n",
      "30 47\n",
      "31 48\n",
      "32 49\n",
      "33 417\n",
      "34 418\n",
      "35 419\n",
      "36 81\n",
      "37 82\n",
      "38 83\n",
      "39 811\n",
      "40 812\n",
      "41 813\n",
      "42 84\n",
      "43 85\n",
      "44 86\n",
      "45 814\n",
      "46 815\n",
      "47 816\n",
      "48 87\n",
      "49 88\n",
      "50 89\n",
      "51 817\n",
      "52 818\n",
      "53 819\n"
     ]
    }
   ],
   "source": [
    "print(\"3D elements\")\n",
    "l = 0\n",
    "for i in c:\n",
    "    for j in i:\n",
    "        for k in j:\n",
    "            print(l, k)\n",
    "            l+=1"
   ]
  },
  {
   "cell_type": "code",
   "execution_count": 11,
   "id": "d11ce9c1",
   "metadata": {},
   "outputs": [
    {
     "name": "stdout",
     "output_type": "stream",
     "text": [
      "1\n",
      "2\n",
      "3\n",
      "11\n",
      "12\n",
      "13\n",
      "4\n",
      "5\n",
      "6\n",
      "14\n",
      "15\n",
      "16\n",
      "7\n",
      "8\n",
      "9\n",
      "17\n",
      "18\n",
      "19\n",
      "41\n",
      "42\n",
      "43\n",
      "411\n",
      "412\n",
      "413\n",
      "44\n",
      "45\n",
      "46\n",
      "414\n",
      "415\n",
      "416\n",
      "47\n",
      "48\n",
      "49\n",
      "417\n",
      "418\n",
      "419\n",
      "81\n",
      "82\n",
      "83\n",
      "811\n",
      "812\n",
      "813\n",
      "84\n",
      "85\n",
      "86\n",
      "814\n",
      "815\n",
      "816\n",
      "87\n",
      "88\n",
      "89\n",
      "817\n",
      "818\n",
      "819\n"
     ]
    }
   ],
   "source": [
    "for i in np.nditer(c):\n",
    "    print(i)"
   ]
  },
  {
   "cell_type": "code",
   "execution_count": 12,
   "id": "cbc00d4f",
   "metadata": {},
   "outputs": [
    {
     "name": "stdout",
     "output_type": "stream",
     "text": [
      "(0, 0, 0) 1\n",
      "(0, 0, 1) 2\n",
      "(0, 0, 2) 3\n",
      "(0, 0, 3) 11\n",
      "(0, 0, 4) 12\n",
      "(0, 0, 5) 13\n",
      "(0, 1, 0) 4\n",
      "(0, 1, 1) 5\n",
      "(0, 1, 2) 6\n",
      "(0, 1, 3) 14\n",
      "(0, 1, 4) 15\n",
      "(0, 1, 5) 16\n",
      "(0, 2, 0) 7\n",
      "(0, 2, 1) 8\n",
      "(0, 2, 2) 9\n",
      "(0, 2, 3) 17\n",
      "(0, 2, 4) 18\n",
      "(0, 2, 5) 19\n",
      "(1, 0, 0) 41\n",
      "(1, 0, 1) 42\n",
      "(1, 0, 2) 43\n",
      "(1, 0, 3) 411\n",
      "(1, 0, 4) 412\n",
      "(1, 0, 5) 413\n",
      "(1, 1, 0) 44\n",
      "(1, 1, 1) 45\n",
      "(1, 1, 2) 46\n",
      "(1, 1, 3) 414\n",
      "(1, 1, 4) 415\n",
      "(1, 1, 5) 416\n",
      "(1, 2, 0) 47\n",
      "(1, 2, 1) 48\n",
      "(1, 2, 2) 49\n",
      "(1, 2, 3) 417\n",
      "(1, 2, 4) 418\n",
      "(1, 2, 5) 419\n",
      "(2, 0, 0) 81\n",
      "(2, 0, 1) 82\n",
      "(2, 0, 2) 83\n",
      "(2, 0, 3) 811\n",
      "(2, 0, 4) 812\n",
      "(2, 0, 5) 813\n",
      "(2, 1, 0) 84\n",
      "(2, 1, 1) 85\n",
      "(2, 1, 2) 86\n",
      "(2, 1, 3) 814\n",
      "(2, 1, 4) 815\n",
      "(2, 1, 5) 816\n",
      "(2, 2, 0) 87\n",
      "(2, 2, 1) 88\n",
      "(2, 2, 2) 89\n",
      "(2, 2, 3) 817\n",
      "(2, 2, 4) 818\n",
      "(2, 2, 5) 819\n"
     ]
    }
   ],
   "source": [
    "for i,l in np.ndenumerate(c):\n",
    "    print(i,l)"
   ]
  }
 ],
 "metadata": {
  "kernelspec": {
   "display_name": "Python 3 (ipykernel)",
   "language": "python",
   "name": "python3"
  },
  "language_info": {
   "codemirror_mode": {
    "name": "ipython",
    "version": 3
   },
   "file_extension": ".py",
   "mimetype": "text/x-python",
   "name": "python",
   "nbconvert_exporter": "python",
   "pygments_lexer": "ipython3",
   "version": "3.10.2"
  }
 },
 "nbformat": 4,
 "nbformat_minor": 5
}
