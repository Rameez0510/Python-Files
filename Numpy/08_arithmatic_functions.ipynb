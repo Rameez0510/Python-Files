{
 "cells": [
  {
   "cell_type": "markdown",
   "id": "0ff12ae6",
   "metadata": {},
   "source": [
    "# ARITHMATIC FUNCTIONS"
   ]
  },
  {
   "cell_type": "code",
   "execution_count": 28,
   "id": "e9397e17",
   "metadata": {},
   "outputs": [],
   "source": [
    "import numpy as np\n",
    "\n",
    "a = np.array([1,2,3,4,5])"
   ]
  },
  {
   "cell_type": "markdown",
   "id": "94e493dc",
   "metadata": {},
   "source": [
    "## MINIMUM"
   ]
  },
  {
   "cell_type": "code",
   "execution_count": 29,
   "id": "4222a6fe",
   "metadata": {},
   "outputs": [
    {
     "name": "stdout",
     "output_type": "stream",
     "text": [
      "1\n"
     ]
    }
   ],
   "source": [
    "print(a.min())"
   ]
  },
  {
   "cell_type": "markdown",
   "id": "84c53972",
   "metadata": {},
   "source": [
    "## Maximum"
   ]
  },
  {
   "cell_type": "code",
   "execution_count": 30,
   "id": "7e4f598b",
   "metadata": {},
   "outputs": [
    {
     "name": "stdout",
     "output_type": "stream",
     "text": [
      "5\n"
     ]
    }
   ],
   "source": [
    "print(a.max())"
   ]
  },
  {
   "cell_type": "markdown",
   "id": "6150aadd",
   "metadata": {},
   "source": [
    "## Minimum location"
   ]
  },
  {
   "cell_type": "code",
   "execution_count": 31,
   "id": "4f602bef",
   "metadata": {},
   "outputs": [
    {
     "name": "stdout",
     "output_type": "stream",
     "text": [
      "0\n"
     ]
    }
   ],
   "source": [
    "print(a.argmin())"
   ]
  },
  {
   "cell_type": "markdown",
   "id": "6a70a8fb",
   "metadata": {},
   "source": [
    "## Maximum Location"
   ]
  },
  {
   "cell_type": "code",
   "execution_count": 32,
   "id": "9dc1080f",
   "metadata": {},
   "outputs": [
    {
     "name": "stdout",
     "output_type": "stream",
     "text": [
      "4\n"
     ]
    }
   ],
   "source": [
    "print(a.argmax())"
   ]
  },
  {
   "cell_type": "markdown",
   "id": "30a38ae3",
   "metadata": {},
   "source": [
    "## In 2D array"
   ]
  },
  {
   "cell_type": "code",
   "execution_count": 33,
   "id": "0632a068",
   "metadata": {},
   "outputs": [
    {
     "name": "stdout",
     "output_type": "stream",
     "text": [
      "[4 8]\n",
      "[5 6 7 8]\n"
     ]
    }
   ],
   "source": [
    "b = np.array([[1,2,3,4],[5,6,7,8]])\n",
    "print(b.max(1)) # 1 = columns\n",
    "print(b.max(0)) # 0 = rows"
   ]
  },
  {
   "cell_type": "markdown",
   "id": "5601afed",
   "metadata": {},
   "source": [
    "## Square root"
   ]
  },
  {
   "cell_type": "code",
   "execution_count": 34,
   "id": "b9b1274e",
   "metadata": {},
   "outputs": [
    {
     "name": "stdout",
     "output_type": "stream",
     "text": [
      "[1.         1.41421356 1.73205081 2.         2.23606798]\n"
     ]
    }
   ],
   "source": [
    "print(np.sqrt(a))"
   ]
  },
  {
   "cell_type": "markdown",
   "id": "42fe7355",
   "metadata": {},
   "source": [
    "## Sin"
   ]
  },
  {
   "cell_type": "code",
   "execution_count": 36,
   "id": "ba278417",
   "metadata": {},
   "outputs": [
    {
     "name": "stdout",
     "output_type": "stream",
     "text": [
      "[ 0.84147098  0.90929743  0.14112001 -0.7568025  -0.95892427]\n"
     ]
    }
   ],
   "source": [
    "print(np.sin(a))"
   ]
  },
  {
   "cell_type": "markdown",
   "id": "021f7cb7",
   "metadata": {},
   "source": [
    "## Cos"
   ]
  },
  {
   "cell_type": "code",
   "execution_count": 37,
   "id": "b57774a6",
   "metadata": {},
   "outputs": [
    {
     "name": "stdout",
     "output_type": "stream",
     "text": [
      "[ 0.54030231 -0.41614684 -0.9899925  -0.65364362  0.28366219]\n"
     ]
    }
   ],
   "source": [
    "print(np.cos(a))"
   ]
  },
  {
   "cell_type": "markdown",
   "id": "d62fc8b6",
   "metadata": {},
   "source": [
    "## Cumsum"
   ]
  },
  {
   "cell_type": "code",
   "execution_count": 38,
   "id": "35c0dacf",
   "metadata": {},
   "outputs": [
    {
     "name": "stdout",
     "output_type": "stream",
     "text": [
      "[ 1  3  6 10 15]\n"
     ]
    }
   ],
   "source": [
    "print(a.cumsum())"
   ]
  },
  {
   "cell_type": "code",
   "execution_count": null,
   "id": "78cd3909",
   "metadata": {},
   "outputs": [],
   "source": []
  }
 ],
 "metadata": {
  "kernelspec": {
   "display_name": "Python 3 (ipykernel)",
   "language": "python",
   "name": "python3"
  },
  "language_info": {
   "codemirror_mode": {
    "name": "ipython",
    "version": 3
   },
   "file_extension": ".py",
   "mimetype": "text/x-python",
   "name": "python",
   "nbconvert_exporter": "python",
   "pygments_lexer": "ipython3",
   "version": "3.10.2"
  }
 },
 "nbformat": 4,
 "nbformat_minor": 5
}
