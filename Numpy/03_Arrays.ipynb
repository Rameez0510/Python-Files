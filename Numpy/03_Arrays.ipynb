{
 "cells": [
  {
   "cell_type": "markdown",
   "id": "dff8d98e",
   "metadata": {},
   "source": [
    "# ARRAYS"
   ]
  },
  {
   "cell_type": "code",
   "execution_count": 6,
   "id": "d80566f0",
   "metadata": {},
   "outputs": [
    {
     "name": "stdout",
     "output_type": "stream",
     "text": [
      "[1 2 3 4 5]\n"
     ]
    }
   ],
   "source": [
    "import numpy as np\n",
    "y = np.array([1,2,3,4,5])\n",
    "print(y)"
   ]
  },
  {
   "cell_type": "markdown",
   "id": "ebe1a220",
   "metadata": {},
   "source": [
    "# # Check weather it is array or not"
   ]
  },
  {
   "cell_type": "code",
   "execution_count": 8,
   "id": "965c205d",
   "metadata": {},
   "outputs": [
    {
     "name": "stdout",
     "output_type": "stream",
     "text": [
      "<class 'numpy.ndarray'>\n"
     ]
    }
   ],
   "source": [
    "print(type(y))"
   ]
  },
  {
   "cell_type": "markdown",
   "id": "7a81fea5",
   "metadata": {},
   "source": [
    "# # another way"
   ]
  },
  {
   "cell_type": "code",
   "execution_count": 9,
   "id": "7b26a7ec",
   "metadata": {},
   "outputs": [
    {
     "data": {
      "text/plain": [
       "array([1, 2, 3, 4, 5])"
      ]
     },
     "execution_count": 9,
     "metadata": {},
     "output_type": "execute_result"
    }
   ],
   "source": [
    "y"
   ]
  },
  {
   "cell_type": "code",
   "execution_count": null,
   "id": "7f91894e",
   "metadata": {},
   "outputs": [],
   "source": []
  },
  {
   "cell_type": "markdown",
   "id": "a14e18f4",
   "metadata": {},
   "source": [
    "## Taking input"
   ]
  },
  {
   "cell_type": "code",
   "execution_count": 12,
   "id": "0a7179ab",
   "metadata": {},
   "outputs": [
    {
     "name": "stdout",
     "output_type": "stream",
     "text": [
      "Enter element 1: 11\n",
      "Enter element 2: 22\n",
      "Enter element 3: 33\n",
      "Enter element 4: 44\n",
      "[11 22 33 44]\n"
     ]
    }
   ],
   "source": [
    "l = []\n",
    "for i in range(1,5):\n",
    "    n = int(input(f\"Enter element {i}: \"))\n",
    "    l.append(n)\n",
    "    \n",
    "l = np.array(l)\n",
    "print(l)"
   ]
  },
  {
   "cell_type": "markdown",
   "id": "b9a2af88",
   "metadata": {},
   "source": [
    "# Creating n dimentional arrays"
   ]
  },
  {
   "cell_type": "code",
   "execution_count": 22,
   "id": "7fc19e9a",
   "metadata": {},
   "outputs": [
    {
     "name": "stdout",
     "output_type": "stream",
     "text": [
      "1\n",
      "[1 2 3]\n"
     ]
    }
   ],
   "source": [
    "# 1 dimentional\n",
    "ar1 = np.array([1,2,3])\n",
    "print(ar1.ndim)\n",
    "print(ar1)"
   ]
  },
  {
   "cell_type": "code",
   "execution_count": 23,
   "id": "5653a88b",
   "metadata": {},
   "outputs": [
    {
     "name": "stdout",
     "output_type": "stream",
     "text": [
      "2\n",
      "[[1 2 3]]\n"
     ]
    }
   ],
   "source": [
    "# 2 dimentional\n",
    "ar2 = np.array([[1,2,3]])\n",
    "print(ar2.ndim)\n",
    "print(ar2)"
   ]
  },
  {
   "cell_type": "code",
   "execution_count": 24,
   "id": "497049b6",
   "metadata": {},
   "outputs": [
    {
     "name": "stdout",
     "output_type": "stream",
     "text": [
      "3\n",
      "[[[1 2 3]]]\n"
     ]
    }
   ],
   "source": [
    "# 3 dimentional\n",
    "ar3 = np.array([[[1,2,3]]])\n",
    "print(ar3.ndim)\n",
    "print(ar3)"
   ]
  },
  {
   "cell_type": "code",
   "execution_count": 27,
   "id": "1db47cbf",
   "metadata": {},
   "outputs": [
    {
     "name": "stdout",
     "output_type": "stream",
     "text": [
      "32\n",
      "[[[[[[[[[[[[[[[[[[[[[[[[[[[[[[[[1 2 3 4]]]]]]]]]]]]]]]]]]]]]]]]]]]]]]]]\n"
     ]
    }
   ],
   "source": [
    "# Assigning dimention\n",
    "arrn = np.array([1,2,3,4],ndmin = 32)\n",
    "print(arrn.ndim)\n",
    "print(arrn)"
   ]
  },
  {
   "cell_type": "code",
   "execution_count": null,
   "id": "164fca32",
   "metadata": {},
   "outputs": [],
   "source": []
  }
 ],
 "metadata": {
  "kernelspec": {
   "display_name": "Python 3 (ipykernel)",
   "language": "python",
   "name": "python3"
  },
  "language_info": {
   "codemirror_mode": {
    "name": "ipython",
    "version": 3
   },
   "file_extension": ".py",
   "mimetype": "text/x-python",
   "name": "python",
   "nbconvert_exporter": "python",
   "pygments_lexer": "ipython3",
   "version": "3.10.2"
  }
 },
 "nbformat": 4,
 "nbformat_minor": 5
}
