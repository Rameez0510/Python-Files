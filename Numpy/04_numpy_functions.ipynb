{
 "cells": [
  {
   "cell_type": "markdown",
   "id": "0127361e",
   "metadata": {},
   "source": [
    "# Zeros"
   ]
  },
  {
   "cell_type": "code",
   "execution_count": 6,
   "id": "86c0a4af",
   "metadata": {},
   "outputs": [
    {
     "name": "stdout",
     "output_type": "stream",
     "text": [
      "[0. 0. 0. 0.]\n",
      "\n",
      "\n",
      "[[0. 0. 0. 0. 0.]\n",
      " [0. 0. 0. 0. 0.]\n",
      " [0. 0. 0. 0. 0.]]\n"
     ]
    }
   ],
   "source": [
    "import numpy as np\n",
    "ar_zero = np.zeros(4)\n",
    "print(ar_zero)\n",
    "print(\"\\n\")\n",
    "\n",
    "#multi dimenion\n",
    "ar_zero = np.zeros((3,5))\n",
    "print(ar_zero)"
   ]
  },
  {
   "cell_type": "markdown",
   "id": "53f5486e",
   "metadata": {},
   "source": [
    "# Ones"
   ]
  },
  {
   "cell_type": "code",
   "execution_count": 7,
   "id": "87aceab6",
   "metadata": {},
   "outputs": [
    {
     "name": "stdout",
     "output_type": "stream",
     "text": [
      "[1. 1. 1. 1. 1.]\n"
     ]
    }
   ],
   "source": [
    "ar_ones = np.ones(5)\n",
    "print(ar_ones)"
   ]
  },
  {
   "cell_type": "markdown",
   "id": "671822fa",
   "metadata": {},
   "source": [
    "# Empty"
   ]
  },
  {
   "cell_type": "code",
   "execution_count": 8,
   "id": "89b3f021",
   "metadata": {},
   "outputs": [
    {
     "name": "stdout",
     "output_type": "stream",
     "text": [
      "[1. 1. 1. 1. 1.]\n"
     ]
    }
   ],
   "source": [
    "ar_empty = np.empty(5)\n",
    "print(ar_empty) #will fill with previous one"
   ]
  },
  {
   "cell_type": "markdown",
   "id": "ea08124b",
   "metadata": {},
   "source": [
    "# Range"
   ]
  },
  {
   "cell_type": "code",
   "execution_count": 12,
   "id": "49d0c27d",
   "metadata": {},
   "outputs": [
    {
     "name": "stdout",
     "output_type": "stream",
     "text": [
      "[0 2 4 6 8]\n"
     ]
    }
   ],
   "source": [
    "ar_range = np.arange(0,10,2)\n",
    "print(ar_range) #print elements in a range"
   ]
  },
  {
   "cell_type": "markdown",
   "id": "a7fd428a",
   "metadata": {},
   "source": [
    "# Diagonal"
   ]
  },
  {
   "cell_type": "code",
   "execution_count": 16,
   "id": "f9a35ba5",
   "metadata": {},
   "outputs": [
    {
     "name": "stdout",
     "output_type": "stream",
     "text": [
      "[[1. 0. 0. 0. 0.]\n",
      " [0. 1. 0. 0. 0.]\n",
      " [0. 0. 1. 0. 0.]\n",
      " [0. 0. 0. 1. 0.]\n",
      " [0. 0. 0. 0. 1.]]\n"
     ]
    }
   ],
   "source": [
    "ar_diagonal = np.eye(5,5)\n",
    "print(ar_diagonal) #will print a diagonal"
   ]
  },
  {
   "cell_type": "markdown",
   "id": "a44d865b",
   "metadata": {},
   "source": [
    "# Linespace"
   ]
  },
  {
   "cell_type": "code",
   "execution_count": 26,
   "id": "2a6a0020",
   "metadata": {},
   "outputs": [
    {
     "name": "stdout",
     "output_type": "stream",
     "text": [
      "[ 0.  5. 10. 15. 20.]\n"
     ]
    }
   ],
   "source": [
    "ar_line = np.linspace(0,20,num=5)\n",
    "print(ar_line)"
   ]
  },
  {
   "cell_type": "code",
   "execution_count": null,
   "id": "95388617",
   "metadata": {},
   "outputs": [],
   "source": []
  }
 ],
 "metadata": {
  "kernelspec": {
   "display_name": "Python 3 (ipykernel)",
   "language": "python",
   "name": "python3"
  },
  "language_info": {
   "codemirror_mode": {
    "name": "ipython",
    "version": 3
   },
   "file_extension": ".py",
   "mimetype": "text/x-python",
   "name": "python",
   "nbconvert_exporter": "python",
   "pygments_lexer": "ipython3",
   "version": "3.10.2"
  }
 },
 "nbformat": 4,
 "nbformat_minor": 5
}
